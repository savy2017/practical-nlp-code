{
  "cells": [
    {
      "cell_type": "markdown",
      "metadata": {
        "id": "GVXrddQRLrQU"
      },
      "source": [
        "This notebook shows how to use Elastic Search to index and search through data. We will use a dataset called CMU Book summaries [dataset](http://www.cs.cmu.edu/~dbamman/booksummaries.html). Alternateively, the dataset's link can be found in the `BookSummaries_Link.md` file under the Data folder in Ch7. \n",
        "\n",
        "For this code to work, elastic search instance has to be running in the background. \n",
        "For this you need to follow these steps :\n",
        "\n",
        "Linux :\n",
        "\n",
        "   1. Go to the elasticsearch-X.Y.Z/bin folder on your machine\n",
        "   2. Run ./elasticsearch.  \n",
        "    \n",
        "Windows :\n",
        "\n",
        "   1.  Download the latest [release](https://www.elastic.co/guide/en/elasticsearch/reference/current/windows.html)\n",
        "   2.  Run .\\bin\\elasticsearch.bat\n",
        "   \n",
        "[ElasticSearch Documentation](https://www.elastic.co/guide/index.html)\n",
        "    \n",
        "You should now be able to access this instance on localhost:9200\n",
        "\n"
      ]
    },
    {
      "cell_type": "code",
      "source": [
        "!pip install elasticsearch"
      ],
      "metadata": {
        "id": "ONPB_NbUa6B5",
        "outputId": "a0824a53-45d5-4347-b72b-9dd042a991cc",
        "colab": {
          "base_uri": "https://localhost:8080/"
        }
      },
      "execution_count": 2,
      "outputs": [
        {
          "output_type": "stream",
          "name": "stdout",
          "text": [
            "Collecting elasticsearch\n",
            "  Downloading elasticsearch-7.16.3-py2.py3-none-any.whl (385 kB)\n",
            "\u001b[?25l\r\u001b[K     |▉                               | 10 kB 23.0 MB/s eta 0:00:01\r\u001b[K     |█▊                              | 20 kB 10.6 MB/s eta 0:00:01\r\u001b[K     |██▌                             | 30 kB 9.0 MB/s eta 0:00:01\r\u001b[K     |███▍                            | 40 kB 8.2 MB/s eta 0:00:01\r\u001b[K     |████▎                           | 51 kB 4.9 MB/s eta 0:00:01\r\u001b[K     |█████                           | 61 kB 4.9 MB/s eta 0:00:01\r\u001b[K     |██████                          | 71 kB 4.2 MB/s eta 0:00:01\r\u001b[K     |██████▉                         | 81 kB 4.8 MB/s eta 0:00:01\r\u001b[K     |███████▋                        | 92 kB 4.7 MB/s eta 0:00:01\r\u001b[K     |████████▌                       | 102 kB 4.9 MB/s eta 0:00:01\r\u001b[K     |█████████▍                      | 112 kB 4.9 MB/s eta 0:00:01\r\u001b[K     |██████████▏                     | 122 kB 4.9 MB/s eta 0:00:01\r\u001b[K     |███████████                     | 133 kB 4.9 MB/s eta 0:00:01\r\u001b[K     |████████████                    | 143 kB 4.9 MB/s eta 0:00:01\r\u001b[K     |████████████▊                   | 153 kB 4.9 MB/s eta 0:00:01\r\u001b[K     |█████████████▋                  | 163 kB 4.9 MB/s eta 0:00:01\r\u001b[K     |██████████████▍                 | 174 kB 4.9 MB/s eta 0:00:01\r\u001b[K     |███████████████▎                | 184 kB 4.9 MB/s eta 0:00:01\r\u001b[K     |████████████████▏               | 194 kB 4.9 MB/s eta 0:00:01\r\u001b[K     |█████████████████               | 204 kB 4.9 MB/s eta 0:00:01\r\u001b[K     |█████████████████▉              | 215 kB 4.9 MB/s eta 0:00:01\r\u001b[K     |██████████████████▊             | 225 kB 4.9 MB/s eta 0:00:01\r\u001b[K     |███████████████████▌            | 235 kB 4.9 MB/s eta 0:00:01\r\u001b[K     |████████████████████▍           | 245 kB 4.9 MB/s eta 0:00:01\r\u001b[K     |█████████████████████▎          | 256 kB 4.9 MB/s eta 0:00:01\r\u001b[K     |██████████████████████          | 266 kB 4.9 MB/s eta 0:00:01\r\u001b[K     |███████████████████████         | 276 kB 4.9 MB/s eta 0:00:01\r\u001b[K     |███████████████████████▉        | 286 kB 4.9 MB/s eta 0:00:01\r\u001b[K     |████████████████████████▋       | 296 kB 4.9 MB/s eta 0:00:01\r\u001b[K     |█████████████████████████▌      | 307 kB 4.9 MB/s eta 0:00:01\r\u001b[K     |██████████████████████████▍     | 317 kB 4.9 MB/s eta 0:00:01\r\u001b[K     |███████████████████████████▏    | 327 kB 4.9 MB/s eta 0:00:01\r\u001b[K     |████████████████████████████    | 337 kB 4.9 MB/s eta 0:00:01\r\u001b[K     |████████████████████████████▉   | 348 kB 4.9 MB/s eta 0:00:01\r\u001b[K     |█████████████████████████████▊  | 358 kB 4.9 MB/s eta 0:00:01\r\u001b[K     |██████████████████████████████▋ | 368 kB 4.9 MB/s eta 0:00:01\r\u001b[K     |███████████████████████████████▍| 378 kB 4.9 MB/s eta 0:00:01\r\u001b[K     |████████████████████████████████| 385 kB 4.9 MB/s \n",
            "\u001b[?25hRequirement already satisfied: certifi in /usr/local/lib/python3.7/dist-packages (from elasticsearch) (2021.10.8)\n",
            "Requirement already satisfied: urllib3<2,>=1.21.1 in /usr/local/lib/python3.7/dist-packages (from elasticsearch) (1.24.3)\n",
            "Installing collected packages: elasticsearch\n",
            "Successfully installed elasticsearch-7.16.3\n"
          ]
        }
      ]
    },
    {
      "cell_type": "code",
      "execution_count": 3,
      "metadata": {
        "id": "ZbO4arQuLrQe",
        "scrolled": true
      },
      "outputs": [],
      "source": [
        "from elasticsearch import Elasticsearch \n",
        "from datetime import datetime"
      ]
    },
    {
      "cell_type": "code",
      "source": [
        "\n",
        "#Here's how I run ElasticSearch on Colab\n",
        "\n",
        "!wget https://artifacts.elastic.co/downloads/elasticsearch/elasticsearch-7.0.0-linux-x86_64.tar.gz -q\n",
        "!tar -xzf elasticsearch-7.0.0-linux-x86_64.tar.gz\n",
        "!chown -R daemon:daemon elasticsearch-7.0.0"
      ],
      "metadata": {
        "id": "rDDm39Hmbgk-"
      },
      "execution_count": 6,
      "outputs": []
    },
    {
      "cell_type": "code",
      "source": [
        "# start server\n",
        "import os\n",
        "from subprocess import Popen, PIPE, STDOUT\n",
        "es_server = Popen(['elasticsearch-7.0.0/bin/elasticsearch'], \n",
        "                  stdout=PIPE, stderr=STDOUT,\n",
        "                  preexec_fn=lambda: os.setuid(1)  # as daemon\n",
        "                 )"
      ],
      "metadata": {
        "id": "rul5reExbrIt"
      },
      "execution_count": 7,
      "outputs": []
    },
    {
      "cell_type": "code",
      "source": [
        "# wait a bit then test\n",
        "#!curl -X GET \"localhost:9200/\""
      ],
      "metadata": {
        "id": "0VkvktRpbvd2"
      },
      "execution_count": null,
      "outputs": []
    },
    {
      "cell_type": "code",
      "execution_count": 8,
      "metadata": {
        "id": "G7gy5xXpLrQq"
      },
      "outputs": [],
      "source": [
        "#elastic search instance has to be running on the machine. Default port is 9200. \n",
        "\n",
        "#Call the Elastic Search instance, and delete any pre-existing index\n",
        "es=Elasticsearch([{'host':'localhost','port':9200}])\n",
        "if es.indices.exists(index=\"myindex\"):\n",
        "    es.indices.delete(index='myindex', ignore=[400, 404]) #Deleting existing index for now "
      ]
    },
    {
      "cell_type": "code",
      "execution_count": 11,
      "metadata": {
        "colab": {
          "base_uri": "https://localhost:8080/"
        },
        "id": "riA5ep9yLrQ1",
        "outputId": "4ccb6a7c-0956-4a68-844b-bb0d58509fa0"
      },
      "outputs": [
        {
          "output_type": "stream",
          "name": "stderr",
          "text": [
            "/usr/local/lib/python3.7/dist-packages/ipykernel_launcher.py:12: DeprecationWarning: The 'body' parameter is deprecated for the 'index' API and will be removed in a future version. Instead use the 'document' parameter. See https://github.com/elastic/elasticsearch-py/issues/1698 for more information\n",
            "  if sys.path[0] == '':\n"
          ]
        },
        {
          "output_type": "stream",
          "name": "stdout",
          "text": [
            "indexed 100 documents\n",
            "indexed 100 documents\n",
            "indexed 100 documents\n",
            "indexed 100 documents\n",
            "indexed 100 documents\n"
          ]
        }
      ],
      "source": [
        "#Build an index from booksummaries dataset. I am using only 500 documents for now.\n",
        "path = \"/content/booksummaries.txt\" #Add your path.\n",
        "count = 1\n",
        "for line in open(path):\n",
        "    fields = line.split(\"\\t\")\n",
        "    doc = {'id' : fields[0],\n",
        "            'title': fields[2],\n",
        "            'author': fields[3],\n",
        "            'summary': fields[6]\n",
        "          }\n",
        "\n",
        "    res = es.index(index=\"myindex\", id=fields[0], body=doc)\n",
        "    count = count+1\n",
        "    if count%100 == 0:\n",
        "        print(\"indexed 100 documents\")\n",
        "    if count == 501:\n",
        "        break"
      ]
    },
    {
      "cell_type": "code",
      "source": [
        "len(res)"
      ],
      "metadata": {
        "id": "ABjQNiYbdPme",
        "outputId": "44b0445b-78d3-4183-edbe-f8974fa2b58f",
        "colab": {
          "base_uri": "https://localhost:8080/"
        }
      },
      "execution_count": 15,
      "outputs": [
        {
          "output_type": "execute_result",
          "data": {
            "text/plain": [
              "8"
            ]
          },
          "metadata": {},
          "execution_count": 15
        }
      ]
    },
    {
      "cell_type": "code",
      "execution_count": 16,
      "metadata": {
        "colab": {
          "base_uri": "https://localhost:8080/"
        },
        "id": "RGZjVbWlLrRB",
        "outputId": "2e2c9de5-f3e1-4bc0-fabb-4b4f6e8f4c07"
      },
      "outputs": [
        {
          "output_type": "stream",
          "name": "stdout",
          "text": [
            "Your index has 500 entries\n"
          ]
        },
        {
          "output_type": "stream",
          "name": "stderr",
          "text": [
            "/usr/local/lib/python3.7/dist-packages/ipykernel_launcher.py:2: DeprecationWarning: The 'body' parameter is deprecated for the 'search' API and will be removed in a future version. Instead use API parameters directly. See https://github.com/elastic/elasticsearch-py/issues/1698 for more information\n",
            "  \n"
          ]
        }
      ],
      "source": [
        "#Check to see how big is the index\n",
        "res = es.search(index=\"myindex\", body={\"query\": {\"match_all\": {}}})\n",
        "print(\"Your index has %d entries\" % res['hits']['total']['value'])"
      ]
    },
    {
      "cell_type": "code",
      "execution_count": null,
      "metadata": {
        "id": "Ajt1YhMbLrRI",
        "outputId": "679721a1-a4a6-45e3-8775-33247e5a1a39"
      },
      "outputs": [
        {
          "name": "stdout",
          "output_type": "stream",
          "text": [
            "Your search returned 16 results.\n"
          ]
        }
      ],
      "source": [
        "#Try a test query. The query searches \"summary\" field which contains the text\n",
        "#and does a full text query on that field.\n",
        "res = es.search(index=\"myindex\", body={\"query\": {\"match\": {\"summary\": \"animal\"}}})\n",
        "print(\"Your search returned %d results.\" % res['hits']['total']['value'])"
      ]
    },
    {
      "cell_type": "code",
      "execution_count": null,
      "metadata": {
        "id": "tZcEXsQYLrRP",
        "outputId": "794c9038-9bbe-4dc4-dd73-9283ec42c2f6"
      },
      "outputs": [
        {
          "name": "stdout",
          "output_type": "stream",
          "text": [
            "Dead Air\n",
            " The first person narrative begins on 11 September 2001, and Banks uses the protagonist's conversati\n"
          ]
        }
      ],
      "source": [
        "#Printing the title field and summary field's first 100 characters for 2nd result\n",
        "print(res[\"hits\"][\"hits\"][2][\"_source\"][\"title\"])\n",
        "print(res[\"hits\"][\"hits\"][2][\"_source\"][\"summary\"][:100])\n"
      ]
    },
    {
      "cell_type": "code",
      "execution_count": null,
      "metadata": {
        "id": "nkYJBQaHLrRW",
        "outputId": "4ecd428d-fc38-4347-9521-df3f400e6ea4"
      },
      "outputs": [
        {
          "name": "stdout",
          "output_type": "stream",
          "text": [
            "Enter your search query: countess\n",
            "Your search returned 7 results:\n",
            "All's Well That Ends Well\n",
            "71\n",
            " Helena, the orphan daughter of a famous physician, is the ward of the Countess of Rousillon, and ho\n",
            "\n",
            "The Last Man\n",
            "904\n",
            " Mary Shelley states in the introduction that in 1818 she discovered, in the Sibyl's cave near Naple\n",
            "ng leaves the throne, the monarchy come to an end and a republic is created. When the king dies the Countess attempts to raise their son, Adrian, to reclaim the throne, but Adrian opposes his mother a\n",
            "The Luck of Barry Lyndon\n",
            "2624\n",
            " Redmond Barry of Bally Barry, born to a genteel but ruined Irish family, fancies himself a gentlema\n",
            "chy, where they win considerable sums of money and Redmond cleverly sets up a plan to marry a young countess of some means. Again, fortune turns against him, and a series of circumstances undermines h\n",
            "Carmilla\n",
            "2554\n",
            " The story is presented by Le Fanu as part of the casebook of Dr Hesselius, whose departures from me\n",
            "ily heirloom restored portraits arrives at the castle, Laura finds one of her ancestors, \"Mircalla, Countess Karnstein\", dated 1698. The portrait resembles Carmilla exactly, down to the mole on her ne\n",
            "Anna Karenina\n",
            "1330\n",
            " The novel is divided into eight parts. Its epigraph is Vengeance is mine, I will repay, from Romans\n",
            " at the railway station to meet Anna, Stiva bumps into Vronsky; he is there to meet his mother, the Countess Vronskaya. Anna and Vronskaya have traveled and talked together in the same carriage. As th\n",
            "Murder on the Orient Express\n",
            "5569\n",
            " Hercule Poirot boards the Orient Express in Constantinople. The train is unusually crowded for the \n",
            "us tragic actress of the New York stage, and was Sonia Armstrong's mother and Daisy's grandmother; *Countess Andrenyi (née Helena Goldenberg) was Sonia Armstrong's sister; *Count Andryeni was the husb\n",
            "War and Peace\n",
            "2612\n",
            " War and Peace has a large cast of characters, the majority of whom are introduced in the first book\n",
            "is impetuous and eager to join the army when of age. The heads of the family, Count Ilya Rostov and Countess Natalya Rostova, are an affectionate couple but forever worried about their disordered fina\n",
            "Enter your search query: STOP\n"
          ]
        }
      ],
      "source": [
        "#match query considers both exact matches, and fuzzy matches and works as a OR query. \n",
        "#match_phrase looks for exact matches.\n",
        "while True:\n",
        "    query = input(\"Enter your search query: \")\n",
        "    if query == \"STOP\":\n",
        "        break\n",
        "    res = es.search(index=\"myindex\", body={\"query\": {\"match_phrase\": {\"summary\": query}}})\n",
        "    print(\"Your search returned %d results:\" % res['hits']['total']['value'])\n",
        "    for hit in res[\"hits\"][\"hits\"]:\n",
        "        print(hit[\"_source\"][\"title\"])\n",
        "        #to get a snippet 100 characters before and after the match\n",
        "        loc = hit[\"_source\"][\"summary\"].lower().index(query)\n",
        "        print(hit[\"_source\"][\"summary\"][:100])\n",
        "        print(hit[\"_source\"][\"summary\"][loc-100:loc+100])\n",
        "\n",
        "    "
      ]
    },
    {
      "cell_type": "code",
      "execution_count": null,
      "metadata": {
        "id": "XU7OUNXLLrRd"
      },
      "outputs": [],
      "source": [
        ""
      ]
    }
  ],
  "metadata": {
    "colab": {
      "name": "ElasticSearch.ipynb",
      "provenance": []
    },
    "kernelspec": {
      "display_name": "Python 3",
      "language": "python",
      "name": "python3"
    },
    "language_info": {
      "codemirror_mode": {
        "name": "ipython",
        "version": 3
      },
      "file_extension": ".py",
      "mimetype": "text/x-python",
      "name": "python",
      "nbconvert_exporter": "python",
      "pygments_lexer": "ipython3",
      "version": "3.7.9"
    }
  },
  "nbformat": 4,
  "nbformat_minor": 0
}